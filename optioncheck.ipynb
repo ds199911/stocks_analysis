{
 "cells": [
  {
   "cell_type": "code",
   "execution_count": 1,
   "metadata": {},
   "outputs": [],
   "source": [
    "from bs4 import BeautifulSoup\n",
    "import requests\n",
    "import os\n",
    "import csv\n",
    "import datetime\n",
    "import xlsxwriter"
   ]
  },
  {
   "cell_type": "code",
   "execution_count": 2,
   "metadata": {},
   "outputs": [],
   "source": [
    "def get_current_stock_price(ticker):\n",
    "    if \".\" in ticker:\n",
    "        ticker = ticker.replace(\".\",\"-\")\n",
    "    url = f\"https://finance.yahoo.com/quote/{ticker}/\"\n",
    "    website_source = requests.get(url).text\n",
    "    soup = BeautifulSoup(website_source, 'lxml')\n",
    "    price = soup.find('span', {\"class\":'Trsdu(0.3s) Fw(b) Fz(36px) Mb(-4px) D(ib)'}) \n",
    "    #print('Symbol: ', ticker )\n",
    "    #print(  'price: ', price.text)\n",
    "    price.text.strip()\n",
    "    if \",\" in price.text:\n",
    "        price_lst = list(price.text)\n",
    "        price_lst.remove(\",\")\n",
    "        pr = \"\"\n",
    "        for elem in price_lst:\n",
    "            pr+=elem\n",
    "        return float(pr)\n",
    "    return float(price.text) \n",
    "\n",
    "    \n",
    "class ExpDate:\n",
    "    def __init__(self, exp_date):\n",
    "        self.exp_date = exp_date\n",
    "        self.options = []\n",
    "    \n",
    "    def calc_predicted_price(self):\n",
    "        #Weightd Average of strike price with volume         # volume weighted average price\n",
    "        numerator = 0\n",
    "        denominator = 0\n",
    "        for option in self.options:\n",
    "            numerator += option.strike * option.volume   \n",
    "            denominator += option.volume\n",
    "\n",
    "        self.predicted_price = numerator / denominator\n",
    "\n",
    "    def calc_percent_change(self, current_stock_price): \n",
    "        self.percent_change = (self.predicted_price - current_stock_price) / current_stock_price * 100\n",
    "        \n",
    "    def calc_volume_openinterest_ration(self):\n",
    "        self.volopenration = (self.total_volume/self.total_openinterest) * 100\n",
    "\n",
    "    def calc_total_volume(self):\n",
    "        self.total_volume = 0\n",
    "        for option in self.options:\n",
    "            self.total_volume += option.volume\n",
    "            \n",
    "    def calc_total_openinterest(self):\n",
    "        self.total_openinterest = 0\n",
    "        for option in self.options:\n",
    "            self.total_openinterest += option.openInterest\n",
    "    \n",
    "\n",
    "class Stock:\n",
    "    def __init__(self, ticker):\n",
    "        self.ticker = ticker\n",
    "        self.price = get_current_stock_price(ticker)\n",
    "        self.exp_dates = []\n",
    "\n",
    "\n",
    "class OptionTrade:\n",
    "    def __init__(self, ticker, strike, exp_date, last, volume, openInterest, iv):\n",
    "        self.ticker = ticker\n",
    "        self.strike = strike\n",
    "        self.exp_date = exp_date\n",
    "        self.last = last\n",
    "        self.volume = volume\n",
    "        self.openInterest = openInterest\n",
    "        self.iv = iv\n",
    "        self.total_cost = last * volume * 100.0"
   ]
  },
  {
   "cell_type": "code",
   "execution_count": 3,
   "metadata": {},
   "outputs": [
    {
     "name": "stdout",
     "output_type": "stream",
     "text": [
      "Wall time: 5min 40s\n"
     ]
    }
   ],
   "source": [
    "%%time\n",
    "start = datetime.datetime.now() #For Optimization Purposes\n",
    "\n",
    "stocks_dict = {}\n",
    "for file in os.listdir('data'):\n",
    "    with open(f\"data/{file}\", 'r') as csv_file:\n",
    "        csv_reader = csv.reader(csv_file)\n",
    "        next(csv_reader)\n",
    "        for line in csv_reader:\n",
    "            if len(line) > 2:\n",
    "                if (line[2].lower() == 'call' and line[3] > line[1]) or (line[2].lower() == 'put' and line[3] < line[1]): #for otm calls and puts\n",
    "                    mdy_list = line[4].split('/')\n",
    "                    if int((mdy_list[2])) >2020:\n",
    "                        date = datetime.date(int(mdy_list[2]), int(mdy_list[0]), int(mdy_list[1]))\n",
    "                    else:\n",
    "                        date = datetime.date(int(mdy_list[2]) + 2000, int(mdy_list[0]), int(mdy_list[1]))\n",
    "                    if date > datetime.date.today():\n",
    "                        iv = float(line[13].replace('%',''))/100\n",
    "                        option = OptionTrade(line[0], float(line[3]), date, float(line[9]), int(line[10]), int(line[11]), iv)              \n",
    "                        if not option.ticker in stocks_dict:\n",
    "                            stocks_dict[option.ticker] = Stock(option.ticker)\n",
    "                        list_exp_dates = []\n",
    "                        for exp_date_obj in stocks_dict[option.ticker].exp_dates:\n",
    "                            list_exp_dates.append(exp_date_obj.exp_date)\n",
    "                        if not option.exp_date in list_exp_dates:\n",
    "                            stocks_dict[option.ticker].exp_dates.append(ExpDate(option.exp_date))\n",
    "                        for exp_date_obj in stocks_dict[option.ticker].exp_dates:\n",
    "                            if option.exp_date == exp_date_obj.exp_date:\n",
    "                                exp_date_obj.options.append(option)"
   ]
  },
  {
   "cell_type": "code",
   "execution_count": 4,
   "metadata": {
    "scrolled": true
   },
   "outputs": [
    {
     "name": "stdout",
     "output_type": "stream",
     "text": [
      "0:05:41.198013\n"
     ]
    }
   ],
   "source": [
    "def sorting_exp_dates(exp_date_obj):\n",
    "    return exp_date_obj.exp_date\n",
    "\n",
    "for key, stock in stocks_dict.items():\n",
    "    for exp_date in stock.exp_dates:\n",
    "        exp_date.calc_predicted_price()\n",
    "        exp_date.calc_percent_change(stock.price)\n",
    "        exp_date.calc_total_volume()\n",
    "        exp_date.calc_total_openinterest()\n",
    "        exp_date.calc_volume_openinterest_ration()\n",
    "\n",
    "    stock.exp_dates = sorted(stock.exp_dates, key=sorting_exp_dates)\n",
    "\n",
    "def sorting_stocks(stock_obj):\n",
    "    return abs(stock_obj.exp_dates[0].percent_change)\n",
    "\n",
    "stocks_sorted_list = sorted(stocks_dict.values(), key=sorting_stocks, reverse=True)\n",
    "\n",
    "\n",
    "workbook = xlsxwriter.Workbook('output/output.xlsx')\n",
    "worksheet = workbook.add_worksheet('Unusual Options Predictions')\n",
    "\n",
    "worksheet.write(0, 0, \"Ticker\")\n",
    "worksheet.write(0, 1, \"Option Date\")\n",
    "worksheet.write(0, 2, \"Current Price\")\n",
    "worksheet.write(0, 3, \"Predicted Price\")\n",
    "worksheet.write(0, 4, \"Percent Change\")\n",
    "worksheet.write(0, 5, \"Total Volume\")\n",
    "worksheet.write(0, 6, \"Total Open Interest\")\n",
    "worksheet.write(0, 7, \"Volume / Open Interest ratio%\")\n",
    "\n",
    "\n",
    "row = 1\n",
    "\n",
    "for stock in stocks_sorted_list:\n",
    "\n",
    "    for exp_date_obj in stock.exp_dates:\n",
    "        worksheet.write(row, 0, stock.ticker)\n",
    "        worksheet.write(row, 1, f'{exp_date_obj.exp_date.month}/{exp_date_obj.exp_date.day}/{exp_date_obj.exp_date.year}')\n",
    "        worksheet.write(row, 2, stock.price)\n",
    "        worksheet.write(row, 3, '{:.2f}'.format(exp_date_obj.predicted_price))\n",
    "        worksheet.write(row, 4, '{:.2f}'.format(exp_date_obj.percent_change))\n",
    "        worksheet.write(row, 5, exp_date_obj.total_volume)\n",
    "        worksheet.write(row, 6, exp_date_obj.total_openinterest)\n",
    "        worksheet.write(row, 7, exp_date_obj.volopenration)\n",
    "        row += 1\n",
    "\n",
    "\n",
    "workbook.close()\n",
    "\n",
    "\n",
    "end = datetime.datetime.now()\n",
    "print(end - start)"
   ]
  },
  {
   "cell_type": "code",
   "execution_count": 5,
   "metadata": {},
   "outputs": [],
   "source": [
    "import pandas as pd\n",
    "from datetime import datetime\n",
    "from datetime import date\n",
    "from datetime import timedelta\n",
    "df = pd.read_excel(\"output/output.xlsx\")"
   ]
  },
  {
   "cell_type": "code",
   "execution_count": 6,
   "metadata": {},
   "outputs": [],
   "source": [
    "today = str(date.today())\n",
    "today = datetime.strptime(today,\"%Y-%m-%d\")\n",
    "for i in range(df.shape[0]):\n",
    "    df.iloc[i,1] = datetime.strptime( df.iloc[i,1], \"%m/%d/%Y\")\n",
    "df = df[(df.iloc[:,1] - today) < timedelta(days=31)]"
   ]
  },
  {
   "cell_type": "code",
   "execution_count": 7,
   "metadata": {},
   "outputs": [],
   "source": [
    "df.sort_values(by=['Percent Change'], inplace=True, ascending = False)\n",
    "call = df.drop_duplicates(['Ticker']).head(25)\n",
    "\n",
    "df.sort_values(by=['Percent Change'], inplace=True, ascending = True)\n",
    "put = df.drop_duplicates(['Ticker']).head(25)"
   ]
  },
  {
   "cell_type": "code",
   "execution_count": 8,
   "metadata": {},
   "outputs": [],
   "source": [
    "call.to_excel(\"output\\call.xlsx\")"
   ]
  },
  {
   "cell_type": "code",
   "execution_count": 9,
   "metadata": {
    "scrolled": false
   },
   "outputs": [],
   "source": [
    "put.to_excel(\"output\\put.xlsx\")"
   ]
  },
  {
   "cell_type": "code",
   "execution_count": 10,
   "metadata": {},
   "outputs": [
    {
     "name": "stdout",
     "output_type": "stream",
     "text": [
      "Top 25 call options --> ['GME', 'SRAX', 'BBIG', 'PSTH', 'CODX', 'TSLA', 'BLNK', 'RKT', 'OXY', 'FNKO', 'BOX', 'UPST', 'DMTK', 'AMRN', 'NKLA', 'HIG', 'EHTH', 'PDD', 'GNUS', 'PLAY', 'IHRT', 'AMTX', 'JMIA', 'FEYE', 'SLB']\n",
      "\n",
      "Top 25 Put options --> ['FREQ', 'IMVT', 'V', 'GSX', 'VIAC', 'SYRS', 'RKT', 'EXPI', 'VUZI', 'SNAP', 'LYFT', 'NIO', 'JOE', 'SONO', 'LC', 'BWA', 'NIU', 'NMM', 'SLM', 'AEO', 'DQ', 'FCEL', 'TSM', 'X', 'TSLA']\n"
     ]
    }
   ],
   "source": [
    "print(\"Top 25 call options -->\", list(call.iloc[:,0]))\n",
    "print(\"\")\n",
    "print(\"Top 25 Put options -->\", list(put.iloc[:,0]))"
   ]
  },
  {
   "cell_type": "code",
   "execution_count": 11,
   "metadata": {},
   "outputs": [
    {
     "name": "stdout",
     "output_type": "stream",
     "text": [
      "Top 18 call options -->\n",
      "  GME\n",
      " SRAX\n",
      " BBIG\n",
      " PSTH\n",
      " CODX\n",
      " TSLA\n",
      " BLNK\n",
      "  RKT\n",
      "  OXY\n",
      " FNKO\n",
      "  BOX\n",
      " UPST\n",
      " DMTK\n",
      " AMRN\n",
      " NKLA\n",
      "  HIG\n",
      " EHTH\n",
      "\n",
      "Top 18 Put options -->\n",
      " FREQ\n",
      " IMVT\n",
      "    V\n",
      "  GSX\n",
      " VIAC\n",
      " SYRS\n",
      "  RKT\n",
      " EXPI\n",
      " VUZI\n",
      " SNAP\n",
      " LYFT\n",
      "  NIO\n",
      "  JOE\n",
      " SONO\n",
      "   LC\n",
      "  BWA\n",
      "  NIU\n"
     ]
    }
   ],
   "source": [
    "print(\"Top 18 call options -->\") \n",
    "print(call.iloc[0:17,0].to_string(index = False))\n",
    "print(\"\")\n",
    "print(\"Top 18 Put options -->\") \n",
    "print(put.iloc[0:17,0].to_string(index = False))"
   ]
  },
  {
   "cell_type": "code",
   "execution_count": 12,
   "metadata": {},
   "outputs": [
    {
     "name": "stdout",
     "output_type": "stream",
     "text": [
      "/poll \"Please pick your top 5 call options for me to stream the scalping on day!\" \"GME\" \"SRAX\" \"BBIG\" \"PSTH\" \"CODX\" \"TSLA\" \"BLNK\" \"RKT\" \"OXY\" \"FNKO\" \"BOX\" \"UPST\" \"DMTK\" \"AMRN\" \"NKLA\" \"HIG\" \"EHTH\" \n",
      "/poll \"Please pick your top 5 put options for me to stream the scalping on day!\" \"FREQ\" \"IMVT\" \"V\" \"GSX\" \"VIAC\" \"SYRS\" \"RKT\" \"EXPI\" \"VUZI\" \"SNAP\" \"LYFT\" \"NIO\" \"JOE\" \"SONO\" \"LC\" \"BWA\" \"NIU\" \n"
     ]
    }
   ],
   "source": [
    "call_str = call.iloc[0:17,0]\n",
    "put_str = put.iloc[0:17,0]\n",
    "c_str = \"/poll \\\"Please pick your top 5 call options for me to stream the scalping on day!\\\" \"\n",
    "p_str = \"/poll \\\"Please pick your top 5 put options for me to stream the scalping on day!\\\" \"\n",
    "for elem in call_str:\n",
    "    c_str+=\"\\\"\"\n",
    "    c_str+= str(elem)\n",
    "    c_str+=\"\\\"\"\n",
    "    c_str+= \" \"\n",
    "for elem in put_str:\n",
    "    p_str+=\"\\\"\"\n",
    "    p_str+= str(elem)\n",
    "    p_str+=\"\\\"\"\n",
    "    p_str+= \" \"\n",
    "print(c_str)\n",
    "print(p_str)"
   ]
  },
  {
   "cell_type": "code",
   "execution_count": 13,
   "metadata": {},
   "outputs": [
    {
     "name": "stdout",
     "output_type": "stream",
     "text": [
      "n\n"
     ]
    }
   ],
   "source": [
    "mp = {}\n",
    "s = \"avedfFE\"\n",
    "mp[s[1]] = 0\n",
    "if s[1] not in mp:\n",
    "    print(\"y\")\n",
    "else:\n",
    "    print(\"n\")\n",
    "del mp[s[1]]"
   ]
  },
  {
   "cell_type": "code",
   "execution_count": 14,
   "metadata": {},
   "outputs": [
    {
     "data": {
      "text/plain": [
       "{}"
      ]
     },
     "execution_count": 14,
     "metadata": {},
     "output_type": "execute_result"
    }
   ],
   "source": [
    "mp"
   ]
  },
  {
   "cell_type": "code",
   "execution_count": null,
   "metadata": {},
   "outputs": [],
   "source": []
  }
 ],
 "metadata": {
  "kernelspec": {
   "display_name": "Python 3",
   "language": "python",
   "name": "python3"
  },
  "language_info": {
   "codemirror_mode": {
    "name": "ipython",
    "version": 3
   },
   "file_extension": ".py",
   "mimetype": "text/x-python",
   "name": "python",
   "nbconvert_exporter": "python",
   "pygments_lexer": "ipython3",
   "version": "3.8.5"
  }
 },
 "nbformat": 4,
 "nbformat_minor": 4
}
